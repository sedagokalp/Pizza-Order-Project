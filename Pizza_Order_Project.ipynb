{
  "nbformat": 4,
  "nbformat_minor": 0,
  "metadata": {
    "colab": {
      "provenance": []
    },
    "kernelspec": {
      "name": "python3",
      "display_name": "Python 3"
    },
    "language_info": {
      "name": "python"
    }
  },
  "cells": [
    {
      "cell_type": "code",
      "execution_count": 2,
      "metadata": {
        "id": "J8Yk8FDHsfkU"
      },
      "outputs": [],
      "source": [
        "# import libraries\n",
        "\n",
        "import csv\n",
        "import datetime"
      ]
    },
    {
      "cell_type": "code",
      "source": [
        "# create menu.txt file for menu\n",
        "\n",
        "f = open(\"Menu.txt\",\"w\")\n",
        "\n",
        "# write menu to menu.txt\n",
        "\n",
        "f.write(\"\"\"\n",
        "--- Welcome to Pizza World! ---\n",
        "\n",
        "> Please choose Pizza Base <\n",
        "\n",
        "1: \"Classic Pizza\"\n",
        "2: \"Margarita Pizza\"\n",
        "3: \"Turk Pizza\"\n",
        "\n",
        "> Please choose Decorators <\n",
        "\n",
        "11: \"Olive\",\n",
        "12: \"Mushroom\",\n",
        "13: \"Goat Cheese\",\n",
        "14: \"Meat\",\n",
        "15: \"Onion\",\n",
        "16: \"Corn\"\n",
        "-------------------------------\n",
        "\"\"\")\n",
        "f.close()"
      ],
      "metadata": {
        "id": "MQZc5zvxskKd"
      },
      "execution_count": 3,
      "outputs": []
    },
    {
      "cell_type": "code",
      "source": [
        "# create function to read the menu\n",
        "\n",
        "def open_menu():\n",
        "    f = open(\"Menu.txt\",\"r\")\n",
        "    menu = f.read()\n",
        "    print(menu)"
      ],
      "metadata": {
        "id": "Evm69IwysnHA"
      },
      "execution_count": 4,
      "outputs": []
    },
    {
      "cell_type": "code",
      "source": [
        "# create Pizza Base class\n",
        "\n",
        "class Pizza:\n",
        "  def __init__(self, cost, description):\n",
        "    self.cost = cost\n",
        "    self.description = description\n",
        "\n",
        "  def get_cost(self):\n",
        "    return self.cost\n",
        "\n",
        "  def get_description(self):\n",
        "    return self.description"
      ],
      "metadata": {
        "id": "ak0fpnyLsqqz"
      },
      "execution_count": 5,
      "outputs": []
    },
    {
      "cell_type": "code",
      "source": [
        "# create type of Pizza bases classes\n",
        "\n",
        "class Classic(Pizza):\n",
        "  def __init__(self):\n",
        "    self.cost = 20\n",
        "    self.description = \"Classic Pizza\"\n",
        "\n",
        "class Margherita(Pizza):\n",
        "  def __init__(self):\n",
        "    self.cost = 25\n",
        "    self.description = \"Margherita Pizza\"\n",
        "\n",
        "class Turk(Pizza):\n",
        "  def __init__(self):\n",
        "    self.cost = 28\n",
        "    self.description = \"Turk Pizza\""
      ],
      "metadata": {
        "id": "QwgJOlTHsv8A"
      },
      "execution_count": 6,
      "outputs": []
    },
    {
      "cell_type": "code",
      "source": [
        "# create Decorator class for all decorators\n",
        "\n",
        "class Decorator(Pizza):\n",
        "  def __init__(self, cost, description):\n",
        "    self.cost = cost\n",
        "    self.description = description\n",
        "\n",
        "  def get_cost(self):\n",
        "    return self.cost\n",
        "\n",
        "  def get_description(self):\n",
        "    return self.description"
      ],
      "metadata": {
        "id": "HH62hfJbs0xw"
      },
      "execution_count": 7,
      "outputs": []
    },
    {
      "cell_type": "code",
      "source": [
        "# create classes for each decorators\n",
        "\n",
        "class Olive(Decorator):\n",
        "  def __init__(self):\n",
        "    self.cost = 1\n",
        "    self.description = \"olive\"\n",
        "\n",
        "class Mushroom(Decorator):\n",
        "  def __init__(self):\n",
        "    self.cost = 2\n",
        "    self.description = \"mushroom\"\n",
        "\n",
        "class GoatCheese(Decorator):\n",
        "  def __init__(self):\n",
        "    self.cost = 3\n",
        "    self.description = \"goat cheese\"\n",
        "\n",
        "class Meat(Decorator):\n",
        "  def __init__(self):\n",
        "    self.cost = 4\n",
        "    self.description = \"meat\"\n",
        "\n",
        "class Onion(Decorator):\n",
        "  def __init__(self):\n",
        "    self.cost = 5\n",
        "    self.description = \"onion\"\n",
        "\n",
        "class Corn(Decorator):\n",
        "  def __init__(self):\n",
        "    self.cost = 6\n",
        "    self.description = \"corn\""
      ],
      "metadata": {
        "id": "q296HlvNs3hL"
      },
      "execution_count": 8,
      "outputs": []
    },
    {
      "cell_type": "code",
      "source": [
        "# pizza bases and decorators (I will use pizza and decorators dic in f-string method to get pizzas and decorators name from key)\n",
        "pizzas = {1: \"Classic Pizza\",\n",
        "          2: \"Margarita Pizza\",\n",
        "          3: \"Turk Pizza\"}\n",
        "\n",
        "decorators = {11: \"Olive\",\n",
        "              12: \"Mushroom\",\n",
        "              13: \"Goat Cheese\",\n",
        "              14: \"Meat\",\n",
        "              15: \"Onion\",\n",
        "              16: \"Corn\" }"
      ],
      "metadata": {
        "id": "T1SHmun-s61m"
      },
      "execution_count": 9,
      "outputs": []
    },
    {
      "cell_type": "code",
      "source": [
        "# create CSV file for Database\n",
        "\n",
        "db_title = [\"Order Date\",\n",
        "            \"Name-Lastname\",\n",
        "            \"Social Number\",\n",
        "            \"Description\",\n",
        "            \"Total Cost\",\n",
        "            \"Credit Card Number\",\n",
        "            \"Credit Card Password\"]\n",
        "\n",
        "db_file_path = \"Pizza_Orders_Database.csv\"\n",
        "\n",
        "with open(db_file_path, 'w', newline='') as db_orders:\n",
        "  w= csv.writer(db_orders)\n",
        "  w.writerow(db_title)\n",
        "\n",
        "with open(db_file_path, 'r') as file:\n",
        "  csvreader = csv.reader(file)\n",
        "  for row in csvreader:\n",
        "    print(row)"
      ],
      "metadata": {
        "colab": {
          "base_uri": "https://localhost:8080/"
        },
        "id": "tiCNtIk0s9yl",
        "outputId": "983c2f2d-324d-4bad-b2eb-74d58a6776e1"
      },
      "execution_count": 10,
      "outputs": [
        {
          "output_type": "stream",
          "name": "stdout",
          "text": [
            "['Order Date', 'Name-Lastname', 'Social Number', 'Description', 'Total Cost', 'Credit Card Number', 'Credit Card Password']\n"
          ]
        }
      ]
    },
    {
      "cell_type": "code",
      "source": [
        "# define the main function to order\n",
        "def main():\n",
        "\n",
        "  # open the Menu ---\n",
        "  open_menu()\n",
        "\n",
        "  # pizza Selection ---\n",
        "  pizza = None\n",
        "  while True:\n",
        "    try:\n",
        "      pizza_selection = int(input(\"Enter Pizza Code (1-3): \" ))\n",
        "      if pizza_selection == 1:\n",
        "        pizza = Classic()\n",
        "        print(f\"You have chosen {pizzas[1]}\")\n",
        "        break\n",
        "      elif pizza_selection == 2:\n",
        "        pizza = Margherita()\n",
        "        print(f\"You have chosen {pizzas[2]}\")\n",
        "        break\n",
        "      elif pizza_selection == 3:\n",
        "        pizza = Turk()\n",
        "        print(f\"You have chosen {pizzas[3]}\")\n",
        "        break\n",
        "      else:\n",
        "        print(\"The Pizza Code was not exist. \")\n",
        "        print(\"Try to choose a pizza base at menu and enter the code.\")\n",
        "        open_menu()\n",
        "    except:\n",
        "      print(\"The entry was incorrect. \")\n",
        "      print(\"Please enter a valid value for Pizza Selection.\")\n",
        "\n",
        "  \n",
        "  # decorator Selection ---\n",
        "  decorator_instances = []\n",
        "  decorator_list = []\n",
        "\n",
        "  while True:\n",
        "    try:\n",
        "      decorator_choice = int(input(\"Enter Decorator Code (11-16)( If you want to exit decorator selection you may enter 0): \"))\n",
        "      # if the customer doesnt want any (or more) extras on the pizza\n",
        "      if decorator_choice == 0:\n",
        "        break\n",
        "      elif decorator_choice == 11:\n",
        "        if 11 not in decorator_list:\n",
        "          decorator_list.append(11)\n",
        "          decorator_instances.append(Olive())\n",
        "          print(f\"{decorators[11]} has been added for {Olive().get_cost()} $\")\n",
        "        else:\n",
        "          print(f\"You have already added {decorators[11]} as an extra\")\n",
        "      elif decorator_choice == 12:\n",
        "        if 12 not in decorator_list:\n",
        "          decorator_list.append(12)\n",
        "          decorator_instances.append(Mushroom())\n",
        "          print(f\"{decorators[12]} has been added for {Mushroom().get_cost()} $\")\n",
        "        else:\n",
        "          print(f\"You have already added {decorators[12]} as an extra\")\n",
        "      elif decorator_choice == 13:\n",
        "        if 13 not in decorator_list:\n",
        "          decorator_list.append(13)\n",
        "          decorator_instances.append(GoatCheese())\n",
        "          print(f\"{decorators[13]} has been added for {GoatCheese().get_cost()} $\")\n",
        "        else:\n",
        "          print(f\"You have already added {decorators[13]} as an extra\")\n",
        "      elif decorator_choice == 14:\n",
        "        if 14 not in decorator_list:\n",
        "          decorator_list.append(14)\n",
        "          decorator_instances.append(Meat())\n",
        "          print(f\"{decorators[14]} has been added for {Meat().get_cost()} $\")\n",
        "        else:\n",
        "          print(f\"You have already added {decorators[14]} as an extra\")\n",
        "      elif decorator_choice == 15:\n",
        "        if 15 not in decorator_list:\n",
        "          decorator_list.append(15)\n",
        "          decorator_instances.append(Onion())\n",
        "          print(f\"{decorators[15]} has been added for {Onion().get_cost()} $\")\n",
        "        else:\n",
        "          print(f\"You have already added {decorators[15]} as an extra\")\n",
        "      elif decorator_choice == 16:\n",
        "        if 16 not in decorator_list:\n",
        "          decorator_list.append(16)\n",
        "          decorator_instances.append(Corn())\n",
        "          print(f\"{decorators[16]} has been added for {Corn().get_cost()} $\")\n",
        "        else:\n",
        "          print(f\"You have already added {decorators[16]} as an extra\")\n",
        "      else:\n",
        "        print(\"The Pizza Code was not exist. \")\n",
        "        print(\"Try to choose a decorator at menu and enter the code.\")\n",
        "        open_menu()\n",
        "    except:\n",
        "      print(\"The entry was incorrect.\")\n",
        "      print(\"Please enter a valid value for Decorator Selection.\")\n",
        "  \n",
        "  # arrange cost and destription\n",
        "  desc = \"\"\n",
        "  for i in decorator_instances:\n",
        "    desc += i.get_description() + \" \"\n",
        "\n",
        "  last_description = f\"{pizza.get_description()} with {desc}\"\n",
        "  total_cost = sum(i.get_cost() for i in decorator_instances) + pizza.get_cost()\n",
        "  print(f\"Your order is {last_description} and total cost is {total_cost}\")\n",
        "\n",
        "  # get information from customer\n",
        "  customer_name_lastname = input(\"Name/Lastname: \")\n",
        "  customer_social_number = input(\"Social Number: \")\n",
        "  customer_cc_number = input(\"Credit Card Number: \")\n",
        "  customer_cc_password = input(\"Credit Card Password: \")\n",
        "\n",
        "  # complete order info details\n",
        "  order_date = datetime.datetime.now()\n",
        "\n",
        "  print(f\"\"\"\n",
        "  --- Order Info ---\n",
        "  Order Date: {order_date}\n",
        "  Order Description {last_description} \n",
        "  Total Cost: {total_cost}\n",
        "\n",
        "  --- Customer Info ---\n",
        "  Name/Lastname: {customer_name_lastname} \n",
        "  Social Number: {customer_social_number}\n",
        "  CC Card :{customer_cc_number}\n",
        "\n",
        "  \"\"\")\n",
        "\n",
        "  # comfirm the order\n",
        "  while True:\n",
        "    comfirm = input(\"Do you comfirm the order? (y/n): \")\n",
        "    if comfirm == \"y\":\n",
        "      # save to Database as csv\n",
        "      db_orders = open(db_file_path, 'a', newline='')\n",
        "      w = csv.writer(db_orders)\n",
        "      w.writerow([order_date,\n",
        "                  customer_name_lastname,\n",
        "                  customer_social_number,\n",
        "                  last_description,\n",
        "                  total_cost,\n",
        "                  customer_cc_number,\n",
        "                  customer_cc_password])\n",
        "      print(\"--- Your order has been received successfully ---\")\n",
        "      break\n",
        "    elif comfirm == \"n\":\n",
        "      # cancel the order\n",
        "      print(\"--- Your order has been cancelled ---\")\n",
        "      break\n",
        "    else:\n",
        "      print(\"Please enter a valid value (y = yes / n = no)\")\n",
        "  "
      ],
      "metadata": {
        "id": "6BvMWmB7tDhi"
      },
      "execution_count": 11,
      "outputs": []
    },
    {
      "cell_type": "code",
      "source": [
        "# execute main function to give any order\n",
        "\n",
        "main()"
      ],
      "metadata": {
        "id": "UDdXnmfBuanz"
      },
      "execution_count": null,
      "outputs": []
    },
    {
      "cell_type": "code",
      "source": [
        "# check orders from database\n",
        "\n",
        "with open(db_file_path, 'r') as file:\n",
        "  csvreader = csv.reader(file)\n",
        "  for row in csvreader:\n",
        "    print(row)"
      ],
      "metadata": {
        "colab": {
          "base_uri": "https://localhost:8080/"
        },
        "id": "HOw6PmOruQAT",
        "outputId": "3c42a1d9-16f0-4838-ed55-8a6fa93ce043"
      },
      "execution_count": 13,
      "outputs": [
        {
          "output_type": "stream",
          "name": "stdout",
          "text": [
            "['Order Date', 'Name-Lastname', 'Social Number', 'Description', 'Total Cost', 'Credit Card Number', 'Credit Card Password']\n"
          ]
        }
      ]
    }
  ]
}